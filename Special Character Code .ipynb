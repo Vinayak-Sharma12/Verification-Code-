{
  "nbformat": 4,
  "nbformat_minor": 0,
  "metadata": {
    "colab": {
      "provenance": [],
      "authorship_tag": "ABX9TyPW5ik46DJFG5o/t0w5N+Q2",
      "include_colab_link": true
    },
    "kernelspec": {
      "name": "python3",
      "display_name": "Python 3"
    },
    "language_info": {
      "name": "python"
    }
  },
  "cells": [
    {
      "cell_type": "markdown",
      "metadata": {
        "id": "view-in-github",
        "colab_type": "text"
      },
      "source": [
        "<a href=\"https://colab.research.google.com/github/Vinayak-Sharma12/Verification-Code-/blob/main/Special%20Character%20Code%20.ipynb\" target=\"_parent\"><img src=\"https://colab.research.google.com/assets/colab-badge.svg\" alt=\"Open In Colab\"/></a>"
      ]
    },
    {
      "cell_type": "code",
      "execution_count": 5,
      "metadata": {
        "colab": {
          "base_uri": "https://localhost:8080/"
        },
        "id": "V-tochS9dA2B",
        "outputId": "a0653510-3a38-4047-f2f0-5a01fee8dc32"
      },
      "outputs": [
        {
          "output_type": "stream",
          "name": "stdout",
          "text": [
            "brC7NPI~\n"
          ]
        }
      ],
      "source": [
        "#CREATING SPECIAL CHARACTER PASSWORD\n",
        "import string as s\n",
        "import random as r\n",
        "spl=\"&@!$%^&*()!~-#\"\n",
        "mix=r.sample(s.ascii_letters+spl+spl+s.ascii_letters+s.ascii_letters+s.digits,8)\n",
        "password=\"\".join(mix)\n",
        "print(password)"
      ]
    }
  ]
}