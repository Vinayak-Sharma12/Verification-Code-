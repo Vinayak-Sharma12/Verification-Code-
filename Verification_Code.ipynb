{
  "nbformat": 4,
  "nbformat_minor": 0,
  "metadata": {
    "colab": {
      "provenance": [],
      "authorship_tag": "ABX9TyOm3kShLBE0ODpyjeCObkNN",
      "include_colab_link": true
    },
    "kernelspec": {
      "name": "python3",
      "display_name": "Python 3"
    },
    "language_info": {
      "name": "python"
    }
  },
  "cells": [
    {
      "cell_type": "markdown",
      "metadata": {
        "id": "view-in-github",
        "colab_type": "text"
      },
      "source": [
        "<a href=\"https://colab.research.google.com/github/Vinayak-Sharma12/Verification-Code-/blob/main/Verification_Code.ipynb\" target=\"_parent\"><img src=\"https://colab.research.google.com/assets/colab-badge.svg\" alt=\"Open In Colab\"/></a>"
      ]
    },
    {
      "cell_type": "code",
      "execution_count": 10,
      "metadata": {
        "colab": {
          "base_uri": "https://localhost:8080/"
        },
        "id": "ctDrL0jtYGaW",
        "outputId": "80159646-9960-4acc-d5fa-37fb2eb06305"
      },
      "outputs": [
        {
          "output_type": "stream",
          "name": "stdout",
          "text": [
            "sDEJ2c\n"
          ]
        }
      ],
      "source": [
        "#CREATING VERIFICATION CODE\n",
        "import string as s\n",
        "import random as r\n",
        "mix=r.sample(s.ascii_letters+s.digits,6)\n",
        "Verification_code=\"\".join(mix)\n",
        "print(Verification_code)"
      ]
    }
  ]
}