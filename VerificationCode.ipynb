{
  "nbformat": 4,
  "nbformat_minor": 0,
  "metadata": {
    "colab": {
      "provenance": [],
      "toc_visible": true,
      "mount_file_id": "18diEoIa3Uswev_SZNAS1-slUWBCNY6m-",
      "authorship_tag": "ABX9TyMETnCRVYZ+lTrEGO4DXP7+",
      "include_colab_link": true
    },
    "kernelspec": {
      "name": "python3",
      "display_name": "Python 3"
    },
    "language_info": {
      "name": "python"
    }
  },
  "cells": [
    {
      "cell_type": "markdown",
      "metadata": {
        "id": "view-in-github",
        "colab_type": "text"
      },
      "source": [
        "<a href=\"https://colab.research.google.com/github/Vinayak-Sharma12/Verification-Code-/blob/main/VerificationCode.ipynb\" target=\"_parent\"><img src=\"https://colab.research.google.com/assets/colab-badge.svg\" alt=\"Open In Colab\"/></a>"
      ]
    },
    {
      "cell_type": "code",
      "execution_count": null,
      "metadata": {
        "colab": {
          "base_uri": "https://localhost:8080/"
        },
        "id": "cidLnCVzQNZ_",
        "outputId": "65f71746-034e-49ec-d7a3-fca6ba705146"
      },
      "outputs": [
        {
          "output_type": "stream",
          "name": "stdout",
          "text": [
            "629705\n"
          ]
        }
      ],
      "source": [
        "#CREATING ONE TIME PASSWORD(OTP)\n",
        "import string as s\n",
        "import random as r\n",
        "O=r.sample(s.digits,6)\n",
        "OTP=\"\".join(O)\n",
        "print(OTP)"
      ]
    }
  ]
}